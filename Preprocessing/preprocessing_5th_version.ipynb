{
 "cells": [
  {
   "cell_type": "code",
   "execution_count": 14,
   "metadata": {},
   "outputs": [],
   "source": [
    "import cv2\n",
    "import numpy as np\n",
    "\n",
    "# Load template and defect images\n",
    "template_image = cv2.imread(r\"E:\\4th sem\\Maths\\project\\pcb\\DeepPCB-master\\PCBData\\group12300\\12300\\12300224_temp.jpg\", cv2.IMREAD_GRAYSCALE)\n",
    "defect_image = cv2.imread(r\"E:\\4th sem\\Maths\\project\\pcb\\DeepPCB-master\\PCBData\\group12300\\12300\\12300224_test.jpg\", cv2.IMREAD_GRAYSCALE)\n",
    "\n",
    "\n",
    "# Initialize SIFT detector\n",
    "sift = cv2.SIFT_create()\n",
    "\n",
    "# Detect keypoints and compute descriptors\n",
    "keypoints1, descriptors1 = sift.detectAndCompute(template_image, None)\n",
    "keypoints2, descriptors2 = sift.detectAndCompute(defect_image, None)\n",
    "\n",
    "# Initialize matcher\n",
    "bf = cv2.BFMatcher()\n",
    "matches = bf.knnMatch(descriptors1, descriptors2, k=2)\n",
    "\n",
    "# Apply ratio test\n",
    "good_matches = []\n",
    "for m, n in matches:\n",
    "    if m.distance < .95 * n.distance:\n",
    "        good_matches.append(m)\n",
    "\n",
    "# Extract matched keypoints\n",
    "src_pts = np.float32([keypoints1[m.queryIdx].pt for m in good_matches]).reshape(-1, 1, 2)\n",
    "dst_pts = np.float32([keypoints2[m.trainIdx].pt for m in good_matches]).reshape(-1, 1, 2)\n",
    "\n",
    "# Estimate perspective transformation using RANSAC\n",
    "M, _ = cv2.findHomography(dst_pts, src_pts, cv2.RANSAC, 6.0)\n",
    "\n",
    "# Apply perspective transformation to align defect image\n",
    "rows, cols = defect_image.shape\n",
    "defect_image_aligned = cv2.warpPerspective(defect_image, M, (cols, rows))\n",
    "\n",
    "# Convert keypoints to NumPy array of floats\n",
    "keypoints2_array = np.array([kp.pt for kp in keypoints2], dtype=np.float32)\n",
    "\n",
    "# Refine alignment using Lucas-Kanade optical flow\n",
    "nextPts, status, _ = cv2.calcOpticalFlowPyrLK(defect_image_aligned, template_image, keypoints2_array, None)\n",
    "\n",
    "# Filter keypoints with valid flow\n",
    "good_new = nextPts[status[:,0] == 1]\n",
    "good_old = keypoints2_array[status[:,0] == 1]\n",
    "\n",
    "# Compute absolute difference between refined aligned defect image and template image\n",
    "difference_image = cv2.absdiff(template_image, defect_image_aligned)\n",
    "\n",
    "# Apply threshold to highlight significant differences\n",
    "threshold = 50  # Adjust threshold as needed\n",
    "difference_image[difference_image < threshold] = 0\n",
    "difference_image[difference_image >= threshold] = 255\n",
    "\n",
    "\n",
    "difference_image=difference_image.astype(np.uint8)\n",
    "# cv2.imwrite(\"final.jpg\",difference_image.astype(np.uint8))\n"
   ]
  },
  {
   "cell_type": "code",
   "execution_count": 15,
   "metadata": {},
   "outputs": [],
   "source": [
    "\n",
    "# Convert the difference image to BGR\n",
    "difference_image_bgr = cv2.cvtColor(difference_image, cv2.COLOR_GRAY2BGR)\n",
    "\n",
    "# Convert the difference image to HSV color space\n",
    "hsv = cv2.cvtColor(difference_image_bgr, cv2.COLOR_BGR2HSV)\n",
    "\n",
    "# Define lower and upper bounds for white color\n",
    "lower_white = np.array([0, 0, 200])\n",
    "upper_white = np.array([180, 255, 255])\n",
    "\n",
    "# Threshold the image to get only white colors\n",
    "mask = cv2.inRange(hsv, lower_white, upper_white)\n",
    "\n",
    "# Replace white pixels with red\n",
    "difference_image_bgr[mask == 255] = [0, 0, 255]\n"
   ]
  },
  {
   "cell_type": "code",
   "execution_count": 16,
   "metadata": {},
   "outputs": [],
   "source": [
    "\n",
    "# Apply Canny edge detection\n",
    "edges = cv2.Canny(template_image, 100, 200)  # Adjust thresholds as needed\n"
   ]
  },
  {
   "cell_type": "code",
   "execution_count": 17,
   "metadata": {},
   "outputs": [],
   "source": [
    "# Convert edges image to three channels\n",
    "edges_bgr = cv2.cvtColor(edges, cv2.COLOR_GRAY2BGR)\n",
    "\n",
    "# Add the two images\n",
    "result_image = cv2.add(difference_image_bgr, edges_bgr)\n",
    "\n",
    "# Display the result\n",
    "cv2.imshow('Result Image', result_image)\n",
    "cv2.waitKey(0)\n",
    "cv2.destroyAllWindows()\n"
   ]
  }
 ],
 "metadata": {
  "kernelspec": {
   "display_name": "Python 3",
   "language": "python",
   "name": "python3"
  },
  "language_info": {
   "codemirror_mode": {
    "name": "ipython",
    "version": 3
   },
   "file_extension": ".py",
   "mimetype": "text/x-python",
   "name": "python",
   "nbconvert_exporter": "python",
   "pygments_lexer": "ipython3",
   "version": "3.10.0"
  }
 },
 "nbformat": 4,
 "nbformat_minor": 2
}
